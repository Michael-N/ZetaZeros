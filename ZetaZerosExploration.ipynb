{
 "cells": [
  {
   "cell_type": "markdown",
   "metadata": {},
   "source": [
    "# Zeta Zeros Exploration\n",
    "- Code By Michael Sherif Naguib\n",
    "- license: MIT open source\n",
    "- Date: 3/20/19\n",
    "- @University of Tulsa\n",
    "- Description: i was curious what the difference between the imaginary part of the zeta function and rounded whole number was..."
   ]
  },
  {
   "cell_type": "code",
   "execution_count": 2,
   "metadata": {
    "scrolled": true
   },
   "outputs": [],
   "source": [
    "\n",
    "%matplotlib notebook"
   ]
  },
  {
   "cell_type": "code",
   "execution_count": 2,
   "metadata": {},
   "outputs": [],
   "source": [
    "#imports\n",
    "import numpy as np, pandas as pd, datashader as ds\n",
    "from datashader import transfer_functions as tf\n",
    "from datashader.colors import inferno, viridis\n",
    "from numba import jit\n",
    "import numpy.random\n",
    "from colorcet import palette\n",
    "import math\n",
    "from decimal import *\n",
    "import bokeh.plotting as bp\n",
    "from datashader.bokeh_ext import InteractiveImage\n",
    "import bokeh.plotting as bp\n",
    "from datashader.bokeh_ext import InteractiveImage\n",
    "import tqdm\n",
    "from PlottingUtil2 import PlottingUtil\n",
    "import datashader.utils\n",
    "#from copy import deepcopy\n",
    "from random import random"
   ]
  },
  {
   "cell_type": "code",
   "execution_count": 3,
   "metadata": {},
   "outputs": [],
   "source": [
    "unparsed_data_r=None\n",
    "#100k ish datapoints of im solutions to zeta func available... courtesy of http://www.lmfdb.org/zeros/zeta/\n",
    "with open(\"ZetaZerosIM.txt\",\"r\") as data_file:\n",
    "    unparsed_data_r=data_file.readlines()\n",
    "    unparsed_data_r=list(map(lambda x: float(x.split(\" \")[1]),unparsed_data_r))   \n",
    "\n",
    "unparsed_data_p=None\n",
    "#10k ish datapoints available... prime nums  courtesy of https://www.math.utah.edu/~pa/math/p10000.html\n",
    "with open(\"primes10k.txt\",\"r\") as data_file:\n",
    "    unparsed_data_p=data_file.read().split(\" \")\n",
    "    unparsed_data_p=list(map(lambda x: int(x),unparsed_data_p))  \n",
    "    \n",
    "#for convenience... the data is now parsed\n",
    "p = unparsed_data_p\n",
    "r = unparsed_data_r[0:10000]#make sure same number avail = 10k"
   ]
  },
  {
   "cell_type": "code",
   "execution_count": 4,
   "metadata": {},
   "outputs": [],
   "source": [
    "#memoized version of collatz path length\n",
    "def c(n):\n",
    "    return 3*n+1 if n%2==1 else int(n/2)\n",
    "cache={1:0,0:0}#base case 1 has 0 path length to 1 ... case 0 is to handle any 0's passed to the func... tech. not defined...\n",
    "def c_len(n):\n",
    "    if n in cache:\n",
    "        return cache[n]\n",
    "    else:\n",
    "        l=1\n",
    "        res = c(n)\n",
    "        while True:\n",
    "            if res in cache:\n",
    "                cache[n] = l + cache[res]\n",
    "                return cache[n]\n",
    "            else:\n",
    "                x=c_len(res)#adds this to the cache\n",
    "                res = c(res)\n",
    "                l+=1\n",
    "                \n",
    "#for i in range(0,100):\n",
    "#    print(str(c(i)))"
   ]
  },
  {
   "cell_type": "code",
   "execution_count": 92,
   "metadata": {},
   "outputs": [],
   "source": [
    "#Function Setup\n",
    "all_series=[]"
   ]
  },
  {
   "cell_type": "code",
   "execution_count": 32,
   "metadata": {},
   "outputs": [
    {
     "name": "stdout",
     "output_type": "stream",
     "text": [
      "#Series: 1\n"
     ]
    }
   ],
   "source": [
    "#Query State by running\n",
    "print(\"#Series: \"+str(len(all_series)))"
   ]
  },
  {
   "cell_type": "code",
   "execution_count": 93,
   "metadata": {},
   "outputs": [],
   "source": [
    "#Each function should return a point based off some index i\n",
    "def f(i):#i is the current index\n",
    "    sd = (round(r[i])-r[i])#signed difference\n",
    "    rr = round(r[i])#rounded reinman zero for \n",
    "    cl = c_len(rr)\n",
    "    return (gcd(rr,cl),rr/sd)"
   ]
  },
  {
   "cell_type": "code",
   "execution_count": 94,
   "metadata": {},
   "outputs": [
    {
     "ename": "NameError",
     "evalue": "name 'gcd' is not defined",
     "output_type": "error",
     "traceback": [
      "\u001b[1;31m---------------------------------------------------------------------------\u001b[0m",
      "\u001b[1;31mNameError\u001b[0m                                 Traceback (most recent call last)",
      "\u001b[1;32m<ipython-input-94-b45e5ab69df9>\u001b[0m in \u001b[0;36m<module>\u001b[1;34m\u001b[0m\n\u001b[0;32m      2\u001b[0m \u001b[1;31m#generate data\u001b[0m\u001b[1;33m\u001b[0m\u001b[1;33m\u001b[0m\u001b[1;33m\u001b[0m\u001b[0m\n\u001b[0;32m      3\u001b[0m \u001b[1;33m\u001b[0m\u001b[0m\n\u001b[1;32m----> 4\u001b[1;33m \u001b[0mallPoints\u001b[0m \u001b[1;33m=\u001b[0m \u001b[0mlist\u001b[0m\u001b[1;33m(\u001b[0m\u001b[0mmap\u001b[0m\u001b[1;33m(\u001b[0m\u001b[0mf\u001b[0m\u001b[1;33m,\u001b[0m\u001b[0mlist\u001b[0m\u001b[1;33m(\u001b[0m\u001b[0mrange\u001b[0m\u001b[1;33m(\u001b[0m\u001b[1;36m0\u001b[0m\u001b[1;33m,\u001b[0m\u001b[0mn\u001b[0m\u001b[1;33m)\u001b[0m\u001b[1;33m)\u001b[0m\u001b[1;33m)\u001b[0m\u001b[1;33m)\u001b[0m\u001b[1;33m\u001b[0m\u001b[1;33m\u001b[0m\u001b[0m\n\u001b[0m\u001b[0;32m      5\u001b[0m \u001b[1;31m#if return tuple then extract cords\u001b[0m\u001b[1;33m\u001b[0m\u001b[1;33m\u001b[0m\u001b[1;33m\u001b[0m\u001b[0m\n\u001b[0;32m      6\u001b[0m \u001b[1;32mif\u001b[0m \u001b[0mtype\u001b[0m\u001b[1;33m(\u001b[0m\u001b[0mallPoints\u001b[0m\u001b[1;33m[\u001b[0m\u001b[1;36m0\u001b[0m\u001b[1;33m]\u001b[0m\u001b[1;33m)\u001b[0m \u001b[1;33m==\u001b[0m \u001b[0mtype\u001b[0m\u001b[1;33m(\u001b[0m\u001b[1;33m(\u001b[0m\u001b[1;36m1\u001b[0m\u001b[1;33m,\u001b[0m\u001b[1;33m)\u001b[0m\u001b[1;33m)\u001b[0m\u001b[1;33m:\u001b[0m\u001b[1;33m\u001b[0m\u001b[1;33m\u001b[0m\u001b[0m\n",
      "\u001b[1;32m<ipython-input-93-09969ff8f17d>\u001b[0m in \u001b[0;36mf\u001b[1;34m(i)\u001b[0m\n\u001b[0;32m      4\u001b[0m     \u001b[0mrr\u001b[0m \u001b[1;33m=\u001b[0m \u001b[0mround\u001b[0m\u001b[1;33m(\u001b[0m\u001b[0mr\u001b[0m\u001b[1;33m[\u001b[0m\u001b[0mi\u001b[0m\u001b[1;33m]\u001b[0m\u001b[1;33m)\u001b[0m\u001b[1;31m#rounded reinman zero for\u001b[0m\u001b[1;33m\u001b[0m\u001b[1;33m\u001b[0m\u001b[0m\n\u001b[0;32m      5\u001b[0m     \u001b[0mcl\u001b[0m \u001b[1;33m=\u001b[0m \u001b[0mc_len\u001b[0m\u001b[1;33m(\u001b[0m\u001b[0mrr\u001b[0m\u001b[1;33m)\u001b[0m\u001b[1;33m\u001b[0m\u001b[1;33m\u001b[0m\u001b[0m\n\u001b[1;32m----> 6\u001b[1;33m     \u001b[1;32mreturn\u001b[0m \u001b[1;33m(\u001b[0m\u001b[0mgcd\u001b[0m\u001b[1;33m(\u001b[0m\u001b[0mrr\u001b[0m\u001b[1;33m,\u001b[0m\u001b[0mcl\u001b[0m\u001b[1;33m)\u001b[0m\u001b[1;33m,\u001b[0m\u001b[0mrr\u001b[0m\u001b[1;33m/\u001b[0m\u001b[0msd\u001b[0m\u001b[1;33m)\u001b[0m\u001b[1;33m\u001b[0m\u001b[1;33m\u001b[0m\u001b[0m\n\u001b[0m",
      "\u001b[1;31mNameError\u001b[0m: name 'gcd' is not defined"
     ]
    }
   ],
   "source": [
    "n=10000\n",
    "#generate data\n",
    "\n",
    "allPoints = list(map(f,list(range(0,n))))\n",
    "#if return tuple then extract cords\n",
    "if type(allPoints[0]) == type((1,)):\n",
    "    x = list(map(lambda p: p[0],allPoints))\n",
    "    y = list(map(lambda p: p[1],allPoints))\n",
    "    all_series.append([x,y])\n",
    "else:#it is implicit that x is the regular axis\n",
    "    x = list(range(0,len(allPoints)))\n",
    "    y = list(allPoints)\n",
    "    all_series.append([x,y])"
   ]
  },
  {
   "cell_type": "code",
   "execution_count": 1,
   "metadata": {},
   "outputs": [
    {
     "ename": "NameError",
     "evalue": "name 'PlottingUtil' is not defined",
     "output_type": "error",
     "traceback": [
      "\u001b[1;31m---------------------------------------------------------------------------\u001b[0m",
      "\u001b[1;31mNameError\u001b[0m                                 Traceback (most recent call last)",
      "\u001b[1;32m<ipython-input-1-6664e271deb0>\u001b[0m in \u001b[0;36m<module>\u001b[1;34m\u001b[0m\n\u001b[0;32m      1\u001b[0m \u001b[1;31m#Use the plotting Util to plot the data\u001b[0m\u001b[1;33m\u001b[0m\u001b[1;33m\u001b[0m\u001b[1;33m\u001b[0m\u001b[0m\n\u001b[1;32m----> 2\u001b[1;33m \u001b[0mPlottingUtil\u001b[0m\u001b[1;33m.\u001b[0m\u001b[0mplot\u001b[0m\u001b[1;33m(\u001b[0m\u001b[0mall_series\u001b[0m\u001b[1;33m)\u001b[0m\u001b[1;33m\u001b[0m\u001b[1;33m\u001b[0m\u001b[0m\n\u001b[0m\u001b[0;32m      3\u001b[0m \u001b[1;31m#Observations and inquiries....\u001b[0m\u001b[1;33m\u001b[0m\u001b[1;33m\u001b[0m\u001b[1;33m\u001b[0m\u001b[0m\n",
      "\u001b[1;31mNameError\u001b[0m: name 'PlottingUtil' is not defined"
     ]
    }
   ],
   "source": [
    "#Use the plotting Util to plot the data\n",
    "PlottingUtil.plot(all_series)\n",
    "#Observations and inquiries...."
   ]
  },
  {
   "cell_type": "markdown",
   "metadata": {},
   "source": [
    "'''\n",
    "Inq.1\n",
    "running round(num)-num for a sample of 1k imaginary part non trivial 0's yeilds\n",
    "what appears to be a compleatly chaotic ... output.\n",
    "\n",
    "although... the output here does remind me of rsa encryption outputs... i wonder if there is any connection.... \n",
    "maybe it is 'encrypted' using two primes that are the closest together thus twin primes and both are always out of reach\n",
    "... an informal way of saying an integer value for them is not obtainable... they are the last primes so to speak among the infinate #\n",
    "\n",
    "Inq.2\n",
    "\n",
    "(fnum-math.floor(fnum))*math.floor(fnum)\n",
    "running a 1k sample....  it produces a really cool parabolic like shape... not necessarily parabolic... this is a guess\n",
    "thought... pattern...\n",
    "a%n =a mod n = (a/n-floor(a/n))*n  ==> r=a-floor(a/n)\n",
    "\n",
    "let the expression (a/n - floor(a/n)) = (floor(fnum)-fnum)\n",
    "where fnum is assumed to be in the form a/n where a,n are of the positive integer set\n",
    "\n",
    "note r = a mod n = (a/n - floor(a/n))n\n",
    "find n given a/n via brute force or search... note a/n is known not a or n...?\n",
    "\n",
    "ex...\n",
    "\n",
    "35.45345453  = a/n\n",
    "\n",
    "a = a-r+r\n",
    "(a-r)/n - r/n = 35.45 etc...\n",
    "rn is known\n",
    "\n",
    "rn*(a-r)-r*r = 35.45*rn\n",
    "rna - r*r*n - r*r = 35.45*rn\n",
    "\n",
    "x=rn\n",
    "xa -xr -35.45x -r*r=0\n",
    "\n",
    "x(a-35.45) -xr -r^2 =0\n",
    "\n",
    "r= (x +- sqrt(x^2 - 4*(-1)*x(a-35.45)))/-2\n",
    "\n",
    "2r = rn +- sqrt(rn*rn+4rn(a-35.45)\n",
    "r and n are integer thus\n",
    "\n",
    "sqrt(rn(rn+4(a-35.35))) is integer\n",
    "\n",
    "\n",
    "\n",
    "'''"
   ]
  },
  {
   "cell_type": "code",
   "execution_count": null,
   "metadata": {},
   "outputs": [],
   "source": []
  }
 ],
 "metadata": {
  "kernelspec": {
   "display_name": "Python 3",
   "language": "python",
   "name": "python3"
  },
  "language_info": {
   "codemirror_mode": {
    "name": "ipython",
    "version": 3
   },
   "file_extension": ".py",
   "mimetype": "text/x-python",
   "name": "python",
   "nbconvert_exporter": "python",
   "pygments_lexer": "ipython3",
   "version": "3.7.3"
  }
 },
 "nbformat": 4,
 "nbformat_minor": 2
}
